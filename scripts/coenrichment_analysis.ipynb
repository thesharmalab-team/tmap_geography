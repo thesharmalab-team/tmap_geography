{
 "cells": [
  {
   "cell_type": "markdown",
   "id": "0d8ed598",
   "metadata": {},
   "source": [
    "used to generate additional analayses for the manuscript, cleaned for tmap_geography repo."
   ]
  },
  {
   "cell_type": "code",
   "execution_count": null,
   "id": "3b295bff",
   "metadata": {},
   "outputs": [],
   "source": [
    "import pandas as pd\n",
    "import numpy as np\n",
    "import matplotlib.pyplot as plt\n",
    "import pylab\n",
    "import seaborn as sns"
   ]
  },
  {
   "cell_type": "code",
   "execution_count": null,
   "id": "27bfbbfa",
   "metadata": {},
   "outputs": [],
   "source": [
    "values = pd.read_csv('scores_coenrichment.csv', index_col=\"Unnamed: 0\")"
   ]
  },
  {
   "cell_type": "code",
   "execution_count": null,
   "id": "007854b9",
   "metadata": {},
   "outputs": [],
   "source": [
    "## define the variables of interest (voi) (all metadata plus top 10 taxa of interest)\n",
    "voi = ['USA', 'UK', 'New Zealand','Canada', 'China', 'Denmark', 'France', 'Germany', 'Italy', 'Spain', 'Brazil', \n",
    "            'Tanzania', 'host_age', 'sex: Female', 'sex: Male', 'BMI: normal', 'BMI: obese', 'BMI: overweight', \n",
    "            'BMI: underweight', \"Paludibacter\", \"Bacteroides\", \"Lachnoclostridium\", \"Ruminiclostridium\", \"Prevotella\",\n",
    "       \"Alistipes\", \"Clostridium\", \"Blautia\", \"Faecalibacterium\", \"Ruminococcus\"]\n",
    "\n",
    "## filter the original co-enrichment values to only include the variables of interes\n",
    "df_voi = values[voi]\n",
    "df_voi = df_voi.loc[df_voi.columns.to_list()]"
   ]
  },
  {
   "cell_type": "code",
   "execution_count": null,
   "id": "cd29f889",
   "metadata": {},
   "outputs": [],
   "source": [
    "### create a heatmap of the co-enrichment between the variables of interest\n",
    "fig, ax = plt.subplots(figsize=(30, 22))\n",
    "sns.heatmap(df_voi, cmap = 'GnBu_r')\n",
    "sns.set(font_scale=2)\n",
    "plt.savefig('heatmap_voi.png')\n",
    "plt.show()"
   ]
  },
  {
   "cell_type": "code",
   "execution_count": null,
   "id": "05557ebb",
   "metadata": {},
   "outputs": [],
   "source": [
    "### Binarize the co-enrichment to easily find which pairs are significantly co-enriched"
   ]
  },
  {
   "cell_type": "code",
   "execution_count": null,
   "id": "82e054c2",
   "metadata": {},
   "outputs": [],
   "source": [
    "# remove the axis (all 0s) by transforming it to 1\n",
    "df = values.replace([0],1)\n",
    "\n",
    "# threshold and binarise\n",
    "threshold = np.percentile(df.to_numpy(), 0.5)\n",
    "df = df.applymap(lambda x: 1 if x<=threshold else 0)\n",
    "\n",
    "df.to_csv('binarised_coenrichment.csv')\n",
    "print(threshold)"
   ]
  },
  {
   "cell_type": "code",
   "execution_count": null,
   "id": "bb999c70",
   "metadata": {},
   "outputs": [],
   "source": [
    "## print all significant combinations\n",
    "from itertools import combinations\n",
    "\n",
    "combos = []\n",
    "\n",
    "for combo in combinations(voi, 2):\n",
    "    if df.loc[combo[0], combo[1]]==1:\n",
    "        print(combo)\n",
    "        combos.append(combo)\n",
    "        \n",
    "print(len(combos))"
   ]
  },
  {
   "cell_type": "code",
   "execution_count": null,
   "id": "b8ce2688",
   "metadata": {},
   "outputs": [],
   "source": [
    "# additional taxa of interest\n",
    "\n",
    "additional_voi = [\"Dorea\", \"Eubacterium\", \"Ruminococcus\"] + ['USA', 'UK', 'New Zealand','Canada', 'China', 'Denmark', 'France', 'Germany', 'Italy', 'Spain', 'Brazil', \n",
    "            'Tanzania', 'host_age', 'sex: Female', 'sex: Male', 'BMI: normal', 'BMI: obese', 'BMI: overweight', \n",
    "            'BMI: underweight']\n",
    "\n",
    "combos_2 = []\n",
    "\n",
    "for combo in combinations(additional_voi, 2):\n",
    "    if df.loc[combo[0], combo[1]]==1:\n",
    "        print(combo)\n",
    "        combos_2.append(combo)\n",
    "        \n",
    "print(len(combos_2))"
   ]
  }
 ],
 "metadata": {
  "kernelspec": {
   "display_name": "Python 3",
   "language": "python",
   "name": "python3"
  },
  "language_info": {
   "codemirror_mode": {
    "name": "ipython",
    "version": 3
   },
   "file_extension": ".py",
   "mimetype": "text/x-python",
   "name": "python",
   "nbconvert_exporter": "python",
   "pygments_lexer": "ipython3",
   "version": "3.8.8"
  }
 },
 "nbformat": 4,
 "nbformat_minor": 5
}

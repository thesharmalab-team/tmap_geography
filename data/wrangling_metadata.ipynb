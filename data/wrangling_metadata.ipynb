{
 "cells": [
  {
   "cell_type": "markdown",
   "metadata": {},
   "source": [
    "#### Wrangling the metadata used for the Lymberopoulos et al., 2021 paper. Cleaned for upload to tmap_geography repo."
   ]
  },
  {
   "cell_type": "code",
   "execution_count": null,
   "metadata": {},
   "outputs": [],
   "source": [
    "import pandas as pd\n",
    "import numpy as np"
   ]
  },
  {
   "cell_type": "code",
   "execution_count": null,
   "metadata": {},
   "outputs": [],
   "source": [
    "## import GMrepo metadata of all genus-level data, filtered for healthy phenotype\n",
    "metadata = pd.read_csv(\"metadata_health.csv\", index_col=0)"
   ]
  },
  {
   "cell_type": "markdown",
   "metadata": {},
   "source": [
    "### Filtering and refactoring metadata"
   ]
  },
  {
   "cell_type": "code",
   "execution_count": null,
   "metadata": {},
   "outputs": [],
   "source": [
    "## excluding all children and those with missing age values (to exclude possibility of having children in sample)\n",
    "print(metadata.host_age.min())\n",
    "print(metadata['host_age'].isnull().sum())\n",
    "\n",
    "metadata = metadata[metadata[\"host_age\"] > 18]\n",
    "metadata = metadata[metadata[\"host_age\"].notnull()]\n",
    "\n",
    "print(metadata.host_age.min())\n",
    "print(metadata['host_age'].isnull().sum())"
   ]
  },
  {
   "cell_type": "code",
   "execution_count": null,
   "metadata": {},
   "outputs": [],
   "source": [
    "## excluding those with country < 20\n",
    "countries = metadata.country.value_counts()\n",
    "countries = countries[countries>=20]\n",
    "countries.index.tolist()\n",
    "metadata = metadata[metadata[\"country\"].isin(countries.index.tolist())]\n",
    "\n",
    "# check sample sizes of the included countries\n",
    "metadata.country.value_counts()"
   ]
  },
  {
   "cell_type": "code",
   "execution_count": null,
   "metadata": {},
   "outputs": [],
   "source": [
    "## Make BMI into categories\n",
    "def bmi(row):\n",
    "    if row[\"BMI\"] < 18.5:\n",
    "        return \"underweight\"\n",
    "    if row[\"BMI\"] < 25:\n",
    "        return \"normal\"\n",
    "    if row[\"BMI\"] < 30:\n",
    "        return \"overweight\"\n",
    "    if row[\"BMI\"] >= 30:\n",
    "        return \"obese\"\n",
    "    \n",
    "metadata[\"BMI\"] = metadata.apply(lambda row: bmi(row), axis=1)\n",
    "metadata.BMI.value_counts()"
   ]
  },
  {
   "cell_type": "markdown",
   "metadata": {},
   "source": [
    "#### Obtaining descriptive statistics"
   ]
  },
  {
   "cell_type": "code",
   "execution_count": null,
   "metadata": {},
   "outputs": [],
   "source": [
    "## Counting the different sequencing instruments used\n",
    "metadata[\"instrument_model\"].value_counts()"
   ]
  },
  {
   "cell_type": "code",
   "execution_count": null,
   "metadata": {},
   "outputs": [],
   "source": [
    "## Counting the number of missing values for BMI and sex\n",
    "print(metadata['BMI'].isnull().sum())\n",
    "print(metadata['sex'].isnull().sum())"
   ]
  },
  {
   "cell_type": "code",
   "execution_count": null,
   "metadata": {},
   "outputs": [],
   "source": [
    "## Counting the number of missing values for BMI and sex by country\n",
    "countries = [\"Brazil\", \"Canada\", \"China\", \"Denmark\", \"France\", \"Germany\", \"Italy\", \"New Zealand\", \"Spain\", \n",
    "             \"Tanzania, United Republic of\", \"United Kingdom\", \"United States of America\"]\n",
    "\n",
    "for country in countries:\n",
    "    print(country)\n",
    "    print(metadata[metadata[\"country\"]==country].BMI.isnull().sum())\n",
    "    print(metadata[metadata[\"country\"]==country].sex.isnull().sum())"
   ]
  },
  {
   "cell_type": "code",
   "execution_count": null,
   "metadata": {},
   "outputs": [],
   "source": [
    "## Counting the number of all values for BMI and sex by country for demographics table\n",
    "countries = [\"Brazil\", \"Canada\", \"China\", \"Denmark\", \"France\", \"Germany\", \"Italy\", \"New Zealand\", \"Spain\", \n",
    "             \"Tanzania, United Republic of\", \"United Kingdom\", \"United States of America\"]\n",
    "\n",
    "for country in countries:\n",
    "    print(country)\n",
    "    print(metadata[metadata[\"country\"]==country].BMI.value_counts())\n",
    "    print(metadata[metadata[\"country\"]==country].sex.value_counts())"
   ]
  },
  {
   "cell_type": "code",
   "execution_count": null,
   "metadata": {},
   "outputs": [],
   "source": [
    "## Calculating mean and SD age by country for demographics table\n",
    "countries = [\"Brazil\", \"Canada\", \"China\", \"Denmark\", \"France\", \"Germany\", \"Italy\", \"New Zealand\", \"Spain\", \n",
    "             \"Tanzania, United Republic of\", \"United Kingdom\", \"United States of America\"]\n",
    "\n",
    "for country in countries:\n",
    "    print(country)\n",
    "    print(round(metadata[metadata[\"country\"]==country].host_age.mean(), 1))\n",
    "    print(round(metadata[metadata[\"country\"]==country].host_age.std(), 1))"
   ]
  },
  {
   "cell_type": "code",
   "execution_count": null,
   "metadata": {},
   "outputs": [],
   "source": [
    "## Calculating mean and SD age for all countries\n",
    "print(round(metadata.host_age.mean(),1))\n",
    "print(round(metadata.host_age.std(),1))"
   ]
  },
  {
   "cell_type": "markdown",
   "metadata": {},
   "source": [
    "#### Dummy-coding categorical data and saving it "
   ]
  },
  {
   "cell_type": "code",
   "execution_count": null,
   "metadata": {},
   "outputs": [],
   "source": [
    "## Dummy code, sex, BMI, and low/high\n",
    "cat_columns = [\"sex\", \"BMI\", \"country\"]\n",
    "metadata_dummies = pd.get_dummies(metadata, prefix_sep=\": \", columns=cat_columns)"
   ]
  },
  {
   "cell_type": "code",
   "execution_count": null,
   "metadata": {},
   "outputs": [],
   "source": [
    "metadata_dummies.to_csv(\"metadata_health_all.csv\")"
   ]
  },
  {
   "cell_type": "markdown",
   "metadata": {},
   "source": [
    "### Filtering genus data to align with metadata"
   ]
  },
  {
   "cell_type": "code",
   "execution_count": null,
   "metadata": {},
   "outputs": [],
   "source": [
    "genus_data = pd.read_csv(\"genus_health.csv\")\n",
    "metadata_final = pd.read_csv(\"metadata_health_all.csv\")\n",
    "\n",
    "\n",
    "## filtering genus data for samples that are also in metadata\n",
    "genus_data = genus_data[genus_data[\"run_id\"].isin(metadata_final[\"run_id\"].to_list())]\n",
    "genus_data = genus_data.set_index(\"run_id\")\n",
    "metadata_final = metadata_final.set_index(\"run_id\")\n",
    "\n",
    "# checking that they are of the same length\n",
    "print(len(metadata_final) == len(genus_data))"
   ]
  },
  {
   "cell_type": "code",
   "execution_count": null,
   "metadata": {},
   "outputs": [],
   "source": [
    "## exclude empty columns that appear after removing samples\n",
    "genus_data.loc['sum'] = genus_data.sum(axis=0)\n",
    "# for those that have sum == 0, drop the column, first find column names\n",
    "empty_taxa = []\n",
    "\n",
    "for column in genus_data.columns:\n",
    "    column_series = genus_data[column]\n",
    "    if column_series.iloc[-1] == 0:\n",
    "        empty_taxa.append(column)\n",
    "\n",
    "        \n",
    "# drop columns, drop sum row\n",
    "genus_data = genus_data.drop(columns = empty_taxa)\n",
    "genus_data.drop(genus_data.tail(1).index,inplace=True)"
   ]
  },
  {
   "cell_type": "code",
   "execution_count": null,
   "metadata": {},
   "outputs": [],
   "source": [
    "# drop 'Unknown' column\n",
    "genus_data = genus_data.drop(columns = [\"Unknown\"])"
   ]
  },
  {
   "cell_type": "code",
   "execution_count": null,
   "metadata": {},
   "outputs": [],
   "source": [
    "## overwrite files\n",
    "genus_data.to_csv(\"genus_health_all.csv\")"
   ]
  }
 ],
 "metadata": {
  "kernelspec": {
   "display_name": "Python 3",
   "language": "python",
   "name": "python3"
  },
  "language_info": {
   "codemirror_mode": {
    "name": "ipython",
    "version": 3
   },
   "file_extension": ".py",
   "mimetype": "text/x-python",
   "name": "python",
   "nbconvert_exporter": "python",
   "pygments_lexer": "ipython3",
   "version": "3.8.8"
  }
 },
 "nbformat": 4,
 "nbformat_minor": 4
}
